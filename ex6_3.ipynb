{
  "nbformat": 4,
  "nbformat_minor": 0,
  "metadata": {
    "colab": {
      "provenance": [],
      "authorship_tag": "ABX9TyNLRjKwjViXkGn/6iPKqoXc",
      "include_colab_link": true
    },
    "kernelspec": {
      "name": "python3",
      "display_name": "Python 3"
    },
    "language_info": {
      "name": "python"
    }
  },
  "cells": [
    {
      "cell_type": "markdown",
      "metadata": {
        "id": "view-in-github",
        "colab_type": "text"
      },
      "source": [
        "<a href=\"https://colab.research.google.com/github/zaibaazizgithub/2nd-python-code-assignment/blob/main/ex6_3.ipynb\" target=\"_parent\"><img src=\"https://colab.research.google.com/assets/colab-badge.svg\" alt=\"Open In Colab\"/></a>"
      ]
    },
    {
      "cell_type": "code",
      "execution_count": 1,
      "metadata": {
        "colab": {
          "base_uri": "https://localhost:8080/"
        },
        "id": "FyV-L0WuEgEY",
        "outputId": "c2b80620-bbbc-4f6a-ce58-c1f1580ebdb1"
      },
      "outputs": [
        {
          "output_type": "stream",
          "name": "stdout",
          "text": [
            "\n",
            "String: A series of characters.\n",
            "\n",
            "Comment: A note in a program that the Python interpreter ignores.\n",
            "\n",
            "List: A collection of items in a particular order.\n",
            "\n",
            "Loop: Work through a collection of items, one at a time.\n",
            "\n",
            "Dictionary: A collection of key-value pairs.\n"
          ]
        }
      ],
      "source": [
        "glossary_zaiba = {\n",
        "    'string': 'A series of characters.',\n",
        "    'comment': 'A note in a program that the Python interpreter ignores.',\n",
        "    'list': 'A collection of items in a particular order.',\n",
        "    'loop': 'Work through a collection of items, one at a time.',\n",
        "    'dictionary': \"A collection of key-value pairs.\",\n",
        "    }\n",
        "\n",
        "word_zaiba = 'string'\n",
        "print(f\"\\n{word_zaiba.title()}: {glossary_zaiba[word_zaiba]}\")\n",
        "\n",
        "word_zaiba = 'comment'\n",
        "print(f\"\\n{word_zaiba.title()}: {glossary_zaiba[word_zaiba]}\")\n",
        "\n",
        "word_zaiba = 'list'\n",
        "print(f\"\\n{word_zaiba.title()}: {glossary_zaiba[word_zaiba]}\")\n",
        "\n",
        "word_zaiba = 'loop'\n",
        "print(f\"\\n{word_zaiba.title()}: {glossary_zaiba[word_zaiba]}\")\n",
        "\n",
        "word_zaiba = 'dictionary'\n",
        "print(f\"\\n{word_zaiba.title()}: {glossary_zaiba[word_zaiba]}\")"
      ]
    },
    {
      "cell_type": "markdown",
      "source": [
        "6-3. Glossary: A Python dictionary can be used to model an actual dictionary.\n",
        "However, to avoid confusion, let’s call it a glossary.\n",
        "•\t Think of five programming words you’ve learned about in the previous \n",
        "chapters. Use these words as the keys in your glossary, and store their \n",
        "meanings as values.\n",
        "•\t Print each word and its meaning as neatly formatted output. You might \n",
        "print the word followed by a colon and then its meaning, or print the word \n",
        "on one line and then print its meaning indented on a second line. Use the \n",
        "newline character (\\n) to insert a blank line between each word-meaning \n",
        "pair in your output."
      ],
      "metadata": {
        "id": "oaLI5teLFREG"
      }
    }
  ]
}
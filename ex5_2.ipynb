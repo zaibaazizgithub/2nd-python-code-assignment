{
  "nbformat": 4,
  "nbformat_minor": 0,
  "metadata": {
    "colab": {
      "provenance": [],
      "authorship_tag": "ABX9TyMCAD8UI/E/h0GIanrte97B",
      "include_colab_link": true
    },
    "kernelspec": {
      "name": "python3",
      "display_name": "Python 3"
    },
    "language_info": {
      "name": "python"
    }
  },
  "cells": [
    {
      "cell_type": "markdown",
      "metadata": {
        "id": "view-in-github",
        "colab_type": "text"
      },
      "source": [
        "<a href=\"https://colab.research.google.com/github/zaibaazizgithub/2nd-python-code-assignment/blob/main/ex5_2.ipynb\" target=\"_parent\"><img src=\"https://colab.research.google.com/assets/colab-badge.svg\" alt=\"Open In Colab\"/></a>"
      ]
    },
    {
      "cell_type": "code",
      "execution_count": 3,
      "metadata": {
        "colab": {
          "base_uri": "https://localhost:8080/"
        },
        "id": "6Oa5dLciBVkc",
        "outputId": "cc543aa7-b993-41e8-a889-0d3b36ca95f5"
      },
      "outputs": [
        {
          "output_type": "stream",
          "name": "stdout",
          "text": [
            "Unequal!\n",
            "The names are unequal\n",
            "Person is eligible to vote\n",
            "Person cannot drink\n",
            "Yonger\n",
            "Older\n",
            "Person is eligible for voting\n",
            "Age difference is 5 years\n",
            "Apple is present in fruits\n",
            "Guava is not present in fruits\n"
          ]
        }
      ],
      "source": [
        "# conditional tests\n",
        "name_1_zaiba = \"zaiba\"\n",
        "name_2_zaiba = \"rimsha\"\n",
        "name_3_zaiba = \"hadi\"\n",
        "\n",
        "#Equality of strings\n",
        "\n",
        "if (name_1_zaiba == name_3_zaiba):\n",
        "    print(\"Equal!\")\n",
        "else:\n",
        "    print(\"Unequal!\")\n",
        "\n",
        "# Inequality of strings\n",
        "\n",
        "if(name_1_zaiba != name_2_zaiba):\n",
        "    print(\"The names are unequal\")\n",
        "else:\n",
        "    print(\"The names are equal\")\n",
        "\n",
        "# Numerical tests\n",
        "\n",
        "age_1 = 18\n",
        "\n",
        "age_2 = 23\n",
        "\n",
        "if (age_1 ==18):\n",
        "    print(\"Person is eligible to vote\")\n",
        "\n",
        "if(age_1 != 23):\n",
        "          print(\"Person cannot drink\")\n",
        "\n",
        "if(age_1 <= age_2):\n",
        "    print(\"Yonger\")\n",
        "\n",
        "if(age_2 >= age_1):\n",
        "    print(\"Older\")\n",
        "\n",
        "# and/or keyword test\n",
        "if (age_1 ==18 or age_23>=23):\n",
        "    print(\"Person is eligible for voting\")\n",
        "\n",
        "if(age_1 ==18 and age_2==23):\n",
        "    print(\"Age difference is 5 years\")\n",
        "\n",
        "## Item in list or not\n",
        "fruits = ['apple','peach','melon']\n",
        "if 'apple' in fruits:\n",
        "    print(\"Apple is present in fruits\")\n",
        "if 'guava' not in fruits:\n",
        "    print(\"Guava is not present in fruits\")"
      ]
    },
    {
      "cell_type": "markdown",
      "source": [
        "5-2. More Conditional Tests: You don’t have to limit the number of tests you \n",
        "create to 10. If you want to try more comparisons, write more tests and add \n",
        "them to conditional_tests.py. Have at least one True and one False result for \n",
        "each of the following:\n",
        "•\t Tests for equality and inequality with strings\n",
        "•\t Tests using the lower() function\n",
        "•\t Numerical tests involving equality and inequality, greater than and \n",
        "less than, greater than or equal to, and less than or equal to\n",
        "•\t Tests using the and keyword and the or keyword\n",
        "•\t Test whether an item is in a list\n",
        "•\t Test whether an item is not in a list"
      ],
      "metadata": {
        "id": "FMivBfyKESbN"
      }
    }
  ]
}
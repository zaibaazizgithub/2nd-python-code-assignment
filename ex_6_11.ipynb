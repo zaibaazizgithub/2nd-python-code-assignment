{
  "nbformat": 4,
  "nbformat_minor": 0,
  "metadata": {
    "colab": {
      "provenance": [],
      "authorship_tag": "ABX9TyOkSAIiStp9pWbyshNgtxnF",
      "include_colab_link": true
    },
    "kernelspec": {
      "name": "python3",
      "display_name": "Python 3"
    },
    "language_info": {
      "name": "python"
    }
  },
  "cells": [
    {
      "cell_type": "markdown",
      "metadata": {
        "id": "view-in-github",
        "colab_type": "text"
      },
      "source": [
        "<a href=\"https://colab.research.google.com/github/zaibaazizgithub/2nd-python-code-assignment/blob/main/ex_6_11.ipynb\" target=\"_parent\"><img src=\"https://colab.research.google.com/assets/colab-badge.svg\" alt=\"Open In Colab\"/></a>"
      ]
    },
    {
      "cell_type": "code",
      "execution_count": 2,
      "metadata": {
        "colab": {
          "base_uri": "https://localhost:8080/"
        },
        "id": "ctkztsHMFslx",
        "outputId": "a1ed03fc-f8be-4d50-f461-a2105e5a7b7f"
      },
      "outputs": [
        {
          "output_type": "stream",
          "name": "stdout",
          "text": [
            "\n",
            "Lahore is in Pakistan.\n",
            "  It has a population of about 6310000.\n",
            "  The Nanga Parbat mounats are nearby.\n",
            "\n",
            "Karachi is in Pakistan.\n",
            "  It has a population of about 8762301.\n",
            "  The Broad Peaktakht-E-Sulaman mounats are nearby.\n",
            "\n",
            "Multan is in Pakistan.\n",
            "  It has a population of about 97545.\n",
            "  The K-2 mounats are nearby.\n"
          ]
        }
      ],
      "source": [
        "cities_zaiba = {\n",
        "    'lahore': {\n",
        "        'country': 'pakistan',\n",
        "        'population': 6310000,\n",
        "        'nearby mountains': 'nanga parbat',\n",
        "        },\n",
        "    'karachi': {\n",
        "        'country': 'pakistan',\n",
        "        'population': 8762301,\n",
        "        'nearby mountains': 'broad peak' 'takht-e-sulaman',\n",
        "        },\n",
        "    'multan': {\n",
        "        'country': 'pakistan',\n",
        "        'population': 97545,\n",
        "        'nearby mountains': 'k-2',\n",
        "        }\n",
        "    }\n",
        "\n",
        "for city, city_info in cities_zaiba.items():\n",
        "    country = city_info['country'].title()\n",
        "    population = city_info['population']\n",
        "    mountains = city_info['nearby mountains'].title()\n",
        "\n",
        "    print(f\"\\n{city.title()} is in {country}.\")\n",
        "    print(f\"  It has a population of about {population}.\")\n",
        "    print(f\"  The {mountains} mounats are nearby.\")"
      ]
    },
    {
      "cell_type": "markdown",
      "source": [
        "6-11. Cities: Make a dictionary called cities. Use the names of three cities as \n",
        "keys in your dictionary. Create a dictionary of information about each city and \n",
        "include the country that the city is in, its approximate population, and one fact \n",
        "about that city. The keys for each city’s dictionary should be something like \n",
        "country, population, and fact. Print the name of each city and all of the infor\u0002mation you have stored about it."
      ],
      "metadata": {
        "id": "lvUKfpUlIni9"
      }
    }
  ]
}
{
  "nbformat": 4,
  "nbformat_minor": 0,
  "metadata": {
    "colab": {
      "provenance": [],
      "authorship_tag": "ABX9TyOqiQj/ZQpcjgor7HaAZNA/",
      "include_colab_link": true
    },
    "kernelspec": {
      "name": "python3",
      "display_name": "Python 3"
    },
    "language_info": {
      "name": "python"
    }
  },
  "cells": [
    {
      "cell_type": "markdown",
      "metadata": {
        "id": "view-in-github",
        "colab_type": "text"
      },
      "source": [
        "<a href=\"https://colab.research.google.com/github/zaibaazizgithub/2nd-python-code-assignment/blob/main/EX6_12.ipynb\" target=\"_parent\"><img src=\"https://colab.research.google.com/assets/colab-badge.svg\" alt=\"Open In Colab\"/></a>"
      ]
    },
    {
      "cell_type": "code",
      "execution_count": 1,
      "metadata": {
        "id": "RoJ8nF9iKh5h"
      },
      "outputs": [],
      "source": [
        "persons_zaiba ={}\n",
        "\n",
        "for k, v in persons_zaiba.items():\n",
        "    print(f\"{k.title()} favorite number is: {v}\")"
      ]
    },
    {
      "cell_type": "markdown",
      "source": [
        "6-12. Extensions: We’re now working with examples that are complex enough \n",
        "that they can be extended in any number of ways. Use one of the example pro\u0002grams from this chapter, and extend it by adding new keys and values, chang\u0002ing the context of the program or improving the formatting of the output."
      ],
      "metadata": {
        "id": "Nwae0WgvLFSN"
      }
    }
  ]
}
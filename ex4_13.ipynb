{
  "nbformat": 4,
  "nbformat_minor": 0,
  "metadata": {
    "colab": {
      "provenance": [],
      "authorship_tag": "ABX9TyPLqGjzBnp8r7DdApiiUMc/",
      "include_colab_link": true
    },
    "kernelspec": {
      "name": "python3",
      "display_name": "Python 3"
    },
    "language_info": {
      "name": "python"
    }
  },
  "cells": [
    {
      "cell_type": "markdown",
      "metadata": {
        "id": "view-in-github",
        "colab_type": "text"
      },
      "source": [
        "<a href=\"https://colab.research.google.com/github/zaibaazizgithub/2nd-python-code-assignment/blob/main/ex4_13.ipynb\" target=\"_parent\"><img src=\"https://colab.research.google.com/assets/colab-badge.svg\" alt=\"Open In Colab\"/></a>"
      ]
    },
    {
      "cell_type": "code",
      "execution_count": null,
      "metadata": {
        "colab": {
          "base_uri": "https://localhost:8080/"
        },
        "id": "MsH-2BTs_T3j",
        "outputId": "5fbb44b0-bf5d-4f2f-af20-da86e83aa1b1"
      },
      "outputs": [
        {
          "output_type": "stream",
          "name": "stdout",
          "text": [
            "You can choose from the following menu items:\n",
            "- sandwich\n",
            "- nuggets\n",
            "- roll paratha\n",
            "- burger\n",
            "- cakes\n",
            "\n",
            "Our menu has been updated.\n",
            "You can now choose from the following items:\n",
            "- sandwich\n",
            "- nuggets\n",
            "- roll paratha\n",
            "- fresh juice\n",
            "- cool drink\n"
          ]
        }
      ],
      "source": [
        "menu_items_zaiba = (\n",
        "    'sandwich', 'nuggets', 'roll paratha',\n",
        "    'burger', 'cakes',\n",
        "    )\n",
        "\n",
        "print(\"You can choose from the following menu items:\")\n",
        "for item in menu_items_zaiba:\n",
        "    print(f\"- {item}\")\n",
        "\n",
        "menu_items_zaiba = (\n",
        "    'sandwich', 'nuggets', 'roll paratha',\n",
        "    'fresh juice', 'cool drink',\n",
        "    )\n",
        "\n",
        "print(\"\\nOur menu has been updated.\")\n",
        "print(\"You can now choose from the following items:\")\n",
        "for item in menu_items_zaiba:\n",
        "    print(f\"- {item}\")"
      ]
    },
    {
      "cell_type": "markdown",
      "source": [
        "4-13. Buffet: A buffet-style restaurant offers only five basic foods. Think of five \n",
        "simple foods, and store them in a tuple.\n",
        "•\t Use a for loop to print each food the restaurant offers.\n",
        "•\t Try to modify one of the items, and make sure that Python rejects the \n",
        "change.\n",
        "•\t The restaurant changes its menu, replacing two of the items with different \n",
        "foods. Add a block of code that rewrites the tuple, and then use a for\n",
        "loop to print each of the items on the revised menu."
      ],
      "metadata": {
        "id": "JI6xULJcAkyp"
      }
    }
  ]
}
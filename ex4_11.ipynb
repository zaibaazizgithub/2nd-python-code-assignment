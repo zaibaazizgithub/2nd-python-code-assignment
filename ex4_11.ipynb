{
  "nbformat": 4,
  "nbformat_minor": 0,
  "metadata": {
    "colab": {
      "provenance": [],
      "authorship_tag": "ABX9TyOn9b3tCe+NvPArHq03eJUp",
      "include_colab_link": true
    },
    "kernelspec": {
      "name": "python3",
      "display_name": "Python 3"
    },
    "language_info": {
      "name": "python"
    }
  },
  "cells": [
    {
      "cell_type": "markdown",
      "metadata": {
        "id": "view-in-github",
        "colab_type": "text"
      },
      "source": [
        "<a href=\"https://colab.research.google.com/github/zaibaazizgithub/2nd-python-code-assignment/blob/main/ex4_11.ipynb\" target=\"_parent\"><img src=\"https://colab.research.google.com/assets/colab-badge.svg\" alt=\"Open In Colab\"/></a>"
      ]
    },
    {
      "cell_type": "code",
      "execution_count": null,
      "metadata": {
        "colab": {
          "base_uri": "https://localhost:8080/"
        },
        "id": "JEXR6ZNU7v3M",
        "outputId": "d9dbccd3-1f79-4eea-8dc1-a020891242ad"
      },
      "outputs": [
        {
          "output_type": "stream",
          "name": "stdout",
          "text": [
            "My favorite pizzas are:\n",
            "- pepperoni\n",
            "- chiken\n",
            "- cheez\n",
            "- chiken lover's\n",
            "\n",
            "My friend's favorite pizzas are:\n",
            "- pepperoni\n",
            "- chiken\n",
            "- cheez\n",
            "- cheez\n"
          ]
        }
      ],
      "source": [
        "favorite_pizzas_zaiba = ['pepperoni', 'chiken', 'cheez']\n",
        "friend_pizzas_zaiba = favorite_pizzas_zaiba[:]\n",
        "\n",
        "favorite_pizzas_zaiba.append(\"chiken lover's\")\n",
        "friend_pizzas_zaiba.append('cheez')\n",
        "\n",
        "print(\"My favorite pizzas are:\")\n",
        "for pizza in favorite_pizzas_zaiba:\n",
        "    print(f\"- {pizza}\")\n",
        "\n",
        "print(\"\\nMy friend's favorite pizzas are:\")\n",
        "for pizza in friend_pizzas_zaiba:\n",
        "    print(f\"- {pizza}\")"
      ]
    },
    {
      "cell_type": "markdown",
      "source": [
        "4-11: My Pizzas, Your Pizzas\n",
        "Start with your program from Exercise 4-1 (page 60). Make a copy of the list of pizzas, and call it friend_pizzas. Then, do the following:\n",
        "\n",
        "Add a new pizza to the original list.\n",
        "Add a different pizza to the list friend_pizzas.\n",
        "Prove that you have two separate lists. Print the message, My favorite pizzas are:, and then use a for loop to print the first list. Print the message, My friend’s favorite pizzas are:, and then use a for loop to print the second list. Make sure each new pizza is stored in the appropriate list."
      ],
      "metadata": {
        "id": "QSvuDHtC9HXB"
      }
    }
  ]
}
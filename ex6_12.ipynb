{
  "nbformat": 4,
  "nbformat_minor": 0,
  "metadata": {
    "colab": {
      "provenance": [],
      "authorship_tag": "ABX9TyNGxzCTSdBko18jcrGGvhas",
      "include_colab_link": true
    },
    "kernelspec": {
      "name": "python3",
      "display_name": "Python 3"
    },
    "language_info": {
      "name": "python"
    }
  },
  "cells": [
    {
      "cell_type": "markdown",
      "metadata": {
        "id": "view-in-github",
        "colab_type": "text"
      },
      "source": [
        "<a href=\"https://colab.research.google.com/github/zaibaazizgithub/2nd-python-code-assignment/blob/main/ex6_12.ipynb\" target=\"_parent\"><img src=\"https://colab.research.google.com/assets/colab-badge.svg\" alt=\"Open In Colab\"/></a>"
      ]
    },
    {
      "cell_type": "code",
      "execution_count": null,
      "metadata": {
        "colab": {
          "base_uri": "https://localhost:8080/"
        },
        "id": "Hi4JEVUEI_kX",
        "outputId": "a8c09e8c-8694-4504-d8fd-d8af524b55b6"
      },
      "outputs": [
        {
          "output_type": "stream",
          "name": "stdout",
          "text": [
            "\tHow are Your name?zaiba\n",
            "\tHow is Your favorite number?2\n",
            "Any persons_zaiba? (yes/no)yes\n",
            "\tHow are Your name?zaiba\n",
            "\tHow is Your favorite number?2\n",
            "Any persons_zaiba? (yes/no)yes\n",
            "\tHow are Your name?zaiba\n",
            "\tHow is Your favorite number?2\n",
            "Any persons_zaiba? (yes/no)no\n",
            "Zaiba favorite number is: 2\n"
          ]
        }
      ],
      "source": [
        "persons_zaiba ={}\n",
        "polling_actives_zaiba = True\n",
        "\n",
        "while polling_actives_zaiba:\n",
        "    name = input('\\tHow are Your name?')\n",
        "    number = input('\\tHow is Your favorite number?')\n",
        "\n",
        "    persons_zaiba[name] = number\n",
        "\n",
        "    repeat = input('Any persons_zaiba? (yes/no)')\n",
        "    if repeat == 'no':\n",
        "        polling_actives_zaiba = False\n",
        "\n",
        "for k, v in persons_zaiba.items():\n",
        "    print(f\"{k.title()} favorite number is: {v}\")"
      ]
    },
    {
      "cell_type": "markdown",
      "source": [
        "6-12. Extensions: We’re now working with examples that are complex enough \n",
        "that they can be extended in any number of ways. Use one of the example pro\u0002grams from this chapter, and extend it by adding new keys and values, chang\u0002ing the context of the program or improving the formatting of the output."
      ],
      "metadata": {
        "id": "MOeGYc2pLLJB"
      }
    }
  ]
}